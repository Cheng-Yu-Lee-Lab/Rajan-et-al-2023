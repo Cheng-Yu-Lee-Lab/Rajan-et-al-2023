{
 "cells": [
  {
   "cell_type": "code",
   "execution_count": null,
   "id": "aea994a2",
   "metadata": {},
   "outputs": [],
   "source": [
    "import scanpy as sc\n",
    "#print(sc.__version__) == 1.8.1\n",
    "import anndata as ad\n",
    "#print(ad.__version__) 0.7.8\n",
    "import igraph as ig\n",
    "#print(ig.__version__) == 0.9.9\n",
    "import leidenalg as lg\n",
    "#print(lg.__version__) == 0.8.3\n",
    "\n",
    "import scanpy.external as sce\n",
    "import harmonypy as hp\n",
    "\n",
    "import pandas as pd\n",
    "import numpy as np\n",
    "\n",
    "import scvi\n",
    "\n",
    "import matplotlib.pyplot as plt\n",
    "from matplotlib import rcParams\n",
    "import matplotlib.font_manager\n",
    "from matplotlib.pyplot import rc_context"
   ]
  },
  {
   "cell_type": "code",
   "execution_count": null,
   "id": "e412d282",
   "metadata": {},
   "outputs": [],
   "source": [
    "typeII = sc.read_10x_mtx(\"scRNA-seq-MTX/\")\n",
    "INP = scvi.data.read_h5ad('INP.h5ad') #Recieved from Cai Lab, \n",
    "                                                  #using data anlysis as outlined \n",
    "                                                  #in https://doi.org/10.1016/j.celrep.2021.109039\n",
    "    "
   ]
  },
  {
   "cell_type": "markdown",
   "id": "7ad0135b",
   "metadata": {},
   "source": [
    "# Harmonize Type II & INP Data"
   ]
  },
  {
   "cell_type": "code",
   "execution_count": null,
   "id": "f6a0497d",
   "metadata": {},
   "outputs": [],
   "source": [
    "typeII.layers[\"counts\"] = typeII.X.copy()\n",
    "sc.pp.normalize_total(typeII, target_sum=1e6, key_added=\"size_factor\", layers=None)\n",
    "sc.pp.log1p(typeII)\n",
    "sc.tl.pca(typeII, svd_solver='arpack', n_comps=50, random_state=0) \n",
    "sc.pp.neighbors(typeII, n_neighbors=20, random_state=0)"
   ]
  },
  {
   "cell_type": "code",
   "execution_count": null,
   "id": "1504a20b",
   "metadata": {},
   "outputs": [],
   "source": [
    "sc.tl.pca(INP, svd_solver='arpack', n_comps=50, random_state=0)\n",
    "typeII_complete = typeII.concatenate(INP)\n",
    "sc.pp.highly_variable_genes(typeII_complete, flavor=\"cell_ranger\", n_top_genes=2000)\n",
    "sc.tl.pca(typeII_complete, svd_solver='arpack', n_comps=50, random_state=0, use_highly_variable = True) \n",
    "sce.pp.harmony_integrate(typeII_complete, key = 'batch', max_iter_harmony = 20)\n",
    "sc.pp.neighbors(typeII_complete, n_neighbors=20, random_state=0, use_rep = \"X_pca_harmony\")"
   ]
  },
  {
   "cell_type": "markdown",
   "id": "6fe22277",
   "metadata": {},
   "source": [
    "# Visualize Marker Genes throughout Lineage"
   ]
  },
  {
   "cell_type": "code",
   "execution_count": null,
   "id": "5115340b",
   "metadata": {},
   "outputs": [],
   "source": [
    "sc.tl.umap(typeII_complete, random_state=0, init_pos=\"spectral\")\n",
    "sc.tl.leiden(typeII_complete, resolution=1, random_state=0)"
   ]
  },
  {
   "cell_type": "code",
   "execution_count": null,
   "id": "0e17e991",
   "metadata": {},
   "outputs": [],
   "source": [
    "sc.set_figure_params(dpi=450,dpi_save=450, figsize=(5,5), format='png')\n",
    "\n",
    "#Figure 1B\n",
    "name = \"paperFig/fig1_batch\"\n",
    "sc.pl.umap(typeII_complete, color = 'batch', ncols=1,legend_loc=None, show=False, save = name)\n",
    "\n",
    "#Figure 1C\n",
    "genes = ['dpn', 'pnt', 'Sp1', 'opa', 'dap', 'Hey', 'nSyb', 'repo']\n",
    "for gene in genes:\n",
    "    name = \"paperFig/fig1_\" + gene\n",
    "    sc.pl.umap(typeII_complete, color = gene, na_color = 'Black', ncols=1, vmin = 0, vmax = 8, legend_loc=None, show=False, save = name)\n",
    "\n",
    "#Figure 1E\n",
    "name = \"paperFig/fig1_leiden\"\n",
    "sc.pl.umap(typeII_complete, color = 'leiden', ncols=1,legend_loc='on data', show=False, save = name)"
   ]
  },
  {
   "cell_type": "markdown",
   "id": "ef4c5b82",
   "metadata": {},
   "source": [
    "# Pseudotime Analysis"
   ]
  },
  {
   "cell_type": "code",
   "execution_count": null,
   "id": "2b9ea3ce",
   "metadata": {},
   "outputs": [],
   "source": [
    "#Start Cell - determined from as dpn+, pnt+, DsRed+\n",
    "print(typeII_complete.obs.index.tolist().index('CATTCTAAGCAACTTC-1-0'))\n",
    "\n",
    "typeII_complete.obs['iroot'] = '0' \n",
    "typeII_complete.obs['iroot'][2038] = '1' \n",
    "typeII_complete.uns['iroot'] = 2038\n",
    "\n",
    "sc.tl.diffmap(typeII_complete, random_state=0)\n",
    "sc.tl.dpt(typeII_complete)"
   ]
  },
  {
   "cell_type": "markdown",
   "id": "094cc9c8",
   "metadata": {},
   "source": [
    "# Reclustering of NBs & immINPs"
   ]
  },
  {
   "cell_type": "code",
   "execution_count": null,
   "id": "1bbf83b8",
   "metadata": {},
   "outputs": [],
   "source": [
    "recluster_14 = typeII_complete[typeII_complete.obs['leiden'].isin(['14'])]\n",
    "sc.tl.leiden(recluster_14, resolution=0.3, random_state=0)\n",
    "\n",
    "recluster_14.obs['seperation'] = 'NaN'\n",
    "\n",
    "for x in range(NBs_plot.obs['leiden'].size):\n",
    "    if(recluster_14.obs['leiden'][x] == '0'):\n",
    "        recluster_14.obs['seperation'][x] = 'NBs'\n",
    "    else:\n",
    "        recluster_14.obs['seperation'][x] = 'immINP'\n",
    "\n",
    "sc.tl.pca(recluster_14, svd_solver='arpack', random_state=0) \n",
    "sc.pp.neighbors(recluster_14, random_state=0)\n",
    "sc.tl.umap(recluster_14, random_state = 0, min_dist = 1)"
   ]
  },
  {
   "cell_type": "markdown",
   "id": "7a577d73",
   "metadata": {},
   "source": [
    "# Calculate QC Metrics"
   ]
  },
  {
   "cell_type": "code",
   "execution_count": null,
   "id": "8a8eba1a",
   "metadata": {},
   "outputs": [],
   "source": [
    "typeII_complete.var['mt'] = typeII_complete.var_names.str.startswith(\"mt:\")\n",
    "\n",
    "sc.pp.calculate_qc_metrics(typeII_complete, qc_vars=['mt'], percent_top=None, log1p=False, inplace=True)\n",
    "\n",
    "with rc_context({'figure.figsize': (10, 5)}):\n",
    "    sc.pl.violin(typeII_complete, ['n_genes_by_counts'], groupby='leiden', stripplot=False, inner='box', save=\"paperFig/n_genes_by_counts\")\n",
    "    \n",
    "with rc_context({'figure.figsize': (10, 5)}):\n",
    "    sc.pl.violin(typeII_complete, ['pct_counts_mt'], groupby='leiden', stripplot=False, inner='box', save=\"paperFig/pct_counts_mt\")\n",
    "    "
   ]
  },
  {
   "cell_type": "markdown",
   "id": "8c79202f",
   "metadata": {},
   "source": [
    "# Visualize Marker Genes in NBs & immINPs"
   ]
  },
  {
   "cell_type": "code",
   "execution_count": null,
   "id": "659e39de",
   "metadata": {},
   "outputs": [],
   "source": [
    "sc.set_figure_params(dpi=450,dpi_save=450, figsize=(5,5), format='png')\n",
    "\n",
    "#Figure 1D top\n",
    "genes = ['dpt_pseudotime']\n",
    "for gene in genes:\n",
    "    name = \"paperFig/fig1_zoom_\" + gene\n",
    "    print(name)\n",
    "    sc.pl.umap(recluster_14, color = gene, color_map = \"magma_r\", ncols=1, legend_loc=None, show=False, save = name)\n",
    "\n",
    "#Figure 1E top\n",
    "genes = ['dpn', 'erm', 'ase', 'ham']\n",
    "for gene in genes:\n",
    "    name = \"paperFig/fig1_14_\" + gene\n",
    "    print(name)\n",
    "    sc.pl.umap(recluster_14, color = gene, color_map = \"magma\", ncols=1, vmin=0, vmax=8, legend_loc=None, show=False, save = name)\n",
    "\n",
    "#Figure 2A \n",
    "genes = ['dpn', 'fru']\n",
    "for gene in genes:\n",
    "    name = \"paperFig/fig1_14_\" + gene\n",
    "    print(name)\n",
    "    sc.pl.umap(recluster_14, color = gene, color_map = \"magma\", ncols=1, vmin=0, vmax=8, legend_loc=None, show=False, save = name)"
   ]
  },
  {
   "cell_type": "markdown",
   "id": "d02e1834",
   "metadata": {},
   "source": [
    "# Visualize Marker Genes in INPs"
   ]
  },
  {
   "cell_type": "code",
   "execution_count": null,
   "id": "e40862a7",
   "metadata": {},
   "outputs": [],
   "source": [
    "recluster_1 = typeII_complete[typeII_complete.obs['leiden'].isin(['1'])]\n",
    "\n",
    "sc.set_figure_params(dpi=450,dpi_save=450, figsize=(5,5), format='png')\n",
    "#Figure 1D top\n",
    "genes = ['dpt_pseudotime']\n",
    "for gene in genes:\n",
    "    name = \"paperFig/fig1_1_\" + gene\n",
    "    print(name)\n",
    "    sc.pl.umap(recluster_1, color = gene, color_map = \"magma_r\", ncols=1,legend_loc=None, show=False, save = name)\n",
    "\n",
    "#Figure 1E bottom\n",
    "genes = ['D', 'hbn', 'ey', 'scro']\n",
    "for gene in genes:\n",
    "    name = \"paperFig/fig1_1_\" + gene\n",
    "    print(name)\n",
    "    sc.pl.umap(recluster_1, color = gene, color_map = \"magma\", ncols=1, vmin=0, vmax=8, legend_loc=None, show=False, save = name)"
   ]
  },
  {
   "cell_type": "markdown",
   "id": "e98c7e6c",
   "metadata": {},
   "source": [
    "# Annotate Clusters"
   ]
  },
  {
   "cell_type": "code",
   "execution_count": null,
   "id": "a5adacd4",
   "metadata": {},
   "outputs": [],
   "source": [
    "sc.tl.leiden(typeII_complete, restrict_to = ['leiden', ['14']], resolution=0.2, random_state=0, key_added = 'sep')\n",
    "sc.tl.leiden(typeII_complete, restrict_to = ['sep', ['14,1']], resolution=0.295, random_state=0, key_added = 'sep_2')\n",
    "sc.tl.leiden(typeII_complete, restrict_to = ['sep_2', ['1']], resolution=0.5, random_state=0, key_added = 'sep_3')"
   ]
  },
  {
   "cell_type": "code",
   "execution_count": null,
   "id": "a683b974",
   "metadata": {},
   "outputs": [],
   "source": [
    "typeII_complete.obs['relabeled_temp'] = 'NaN'\n",
    "for x in range(typeII_complete.obs['sep_3'].size):\n",
    "    if(typeII_complete.obs['sep_3'][x] == '14,1,1'):\n",
    "        typeII_complete.obs['relabeled_temp'][x] = 'type II NB'\n",
    "    elif(typeII_complete.obs['sep_3'][x] == '14,1,0'):\n",
    "        typeII_complete.obs['relabeled_temp'][x] = 'Ase- imm INP'\n",
    "    elif(typeII_complete.obs['sep_3'][x] == '14,0'):\n",
    "        typeII_complete.obs['relabeled_temp'][x] = 'Ase+ imm INP'\n",
    "    elif(typeII_complete.obs['sep_3'][x] == '1,0'):\n",
    "        typeII_complete.obs['relabeled_temp'][x] = 'Ey+ INP'\n",
    "    elif(typeII_complete.obs['sep_3'][x] == '1,1'):\n",
    "        typeII_complete.obs['relabeled_temp'][x] = 'D+ INP'\n",
    "    elif(typeII_complete.obs['sep_3'][x] == '1,2'):\n",
    "        typeII_complete.obs['relabeled_temp'][x] = 'Ey+ INP'\n",
    "    elif(typeII_complete.obs['sep_3'][x] == '1,3'):\n",
    "        typeII_complete.obs['relabeled_temp'][x] = 'D+ INP'\n",
    "    elif(typeII_complete.obs['sep_3'][x] == '1,4'):\n",
    "        typeII_complete.obs['relabeled_temp'][x] = 'D+ INP'\n",
    "    elif(typeII_complete.obs['sep_3'][x] == '1,5'):\n",
    "        typeII_complete.obs['relabeled_temp'][x] = 'Ey+ INP'\n",
    "    elif(typeII_complete.obs['sep_3'][x] == '0'):\n",
    "        typeII_complete.obs['relabeled_temp'][x] = 'GMC'\n",
    "    elif(typeII_complete.obs['sep_3'][x] == '20'):\n",
    "        typeII_complete.obs['relabeled_temp'][x] = 'GMC'\n",
    "    elif(typeII_complete.obs['sep_3'][x] == '17'):\n",
    "        typeII_complete.obs['relabeled_temp'][x] = 'low quality'\n",
    "    elif(typeII_complete.obs['sep_3'][x] == '4'):\n",
    "        typeII_complete.obs['relabeled_temp'][x] = 'low quality'\n",
    "    elif(typeII_complete.obs['sep_3'][x] == '24'):\n",
    "        typeII_complete.obs['relabeled_temp'][x] = 'glia'\n",
    "    elif(typeII_complete.obs['sep_3'][x] == '18'):\n",
    "        typeII_complete.obs['relabeled_temp'][x] = 'glia'\n",
    "    else:\n",
    "        typeII_complete.obs['relabeled_temp'][x] = 'neuron'\n",
    "\n",
    "sc.tl.leiden(typeII_complete, restrict_to = ['relabeled_temp', ['neuron']], resolution=0.2, random_state=0, key_added = 'sep4')\n",
    "\n",
    "\n",
    "typeII_complete.obs['relabeled'] = 'NaN'\n",
    "for x in range(typeII_complete.obs['sep4'].size):\n",
    "    if(typeII_complete.obs['sep4'][x] == 'neuron,0'):\n",
    "        typeII_complete.obs['relabeled'][x] = 'imm neuron'\n",
    "    else:\n",
    "        typeII_complete.obs['relabeled'][x] = typeII_complete.obs['relabeled_temp'][x]\n",
    "\n",
    "#Figure 1F\n",
    "name = \"paperFig1_annotatad\"\n",
    "sc.set_figure_params(dpi=450,dpi_save=450, figsize=(5,5), format='png')\n",
    "sc.pl.umap(typeII_complete_core, color=['relabeled'],  palette=[(0.5529411764705883, 0.8274509803921568, 0.7803921568627451),\n",
    "                                                                (0.2196078431372549, 0.4235294117647059, 0.6901960784313725),\n",
    "                                                                (0.7019607843137254, 0.8705882352941177, 0.4117647058823529),\n",
    "                                                                (0.8, 0.9215686274509803, 0.7725490196078432),\n",
    "                                                                (0.5019607843137255, 0.6941176470588235, 0.8274509803921568),\n",
    "                                                                (0.9921568627450981, 0.7058823529411765, 0.3843137254901961),\n",
    "                                                                (0.984313725490196, 0.5019607843137255, 0.4470588235294118),\n",
    "                                                                (0.7372549019607844, 0.5019607843137255, 0.7411764705882353),\n",
    "                                                                (0.9882352941176471, 0.803921568627451, 0.8980392156862745),\n",
    "                                                                (1.0, 0.9294117647058824, 0.43529411764705883)],\n",
    "                                                                save = name)"
   ]
  },
  {
   "cell_type": "markdown",
   "id": "1c723ce1",
   "metadata": {},
   "source": [
    "# Get Gene Lists for Figure 3 Data & Visualize"
   ]
  },
  {
   "cell_type": "code",
   "execution_count": null,
   "id": "0a2fe281",
   "metadata": {},
   "outputs": [],
   "source": [
    "groups_to_rank = [str(x) for x in recluster_14.obs[\"seperation\"].unique()]\n",
    "sc.tl.rank_genes_groups(recluster_14, 'seperation', groups_to_rank=groups_to_rank, method='t-test_overestim_var')\n",
    "dedf = sc.get.rank_genes_groups_df(recluster_14, group=\"NBs\")\n",
    "dedf.sort_values(by=['logfoldchanges'])\n",
    "dedf.to_csv('data/supplemental_Table_2.csv')"
   ]
  },
  {
   "cell_type": "code",
   "execution_count": null,
   "id": "57e9a1c5",
   "metadata": {},
   "outputs": [],
   "source": [
    "import csv \n",
    "\n",
    "#Gene lists calculated from annotated peak sets & single cell gene-lists\n",
    "fru_NB_genes=next(csv.reader(open('fru_NB_genes.csv', 'r')))\n",
    "fru_immINP_genes=next(csv.reader(open('fru_immINP_genes.csv', 'r')))\n",
    "fru_invariant_genes=next(csv.reader(open('fru_invariant_genes.csv', 'r')))\n",
    "\n",
    "sc.tl.score_genes(typeII_complete, fru_NB_genes, ctrl_size=len(fru_NB_genes), n_bins=25, score_name='fru_NB_genes', random_state=0, copy=False, use_raw=None)\n",
    "sc.tl.score_genes(typeII_complete, fru_immINP_genes, ctrl_size=len(fru_immINP_genes), n_bins=25, score_name='fru_immINP_genes', random_state=0, copy=False, use_raw=None)\n",
    "sc.tl.score_genes(typeII_complete, fru_invariant_genes, ctrl_size=len(fru_invariant_genes), n_bins=25, score_name='fru_invariant_genes', random_state=0, copy=False, use_raw=None)\n",
    "\n",
    "sc.set_figure_params(dpi=450,dpi_save=450, figsize=(5,5), format='png')\n",
    "\n",
    "#Figure 3D\n",
    "categorys = ['fru_NB_genes', 'fru_immINP_genes', 'fru_invariant_genes']\n",
    "for cat in categorys:\n",
    "    name = \"paperFig/fig3_\" + cat\n",
    "    sc.pl.umap(typeII_complete, color = cat, na_color = 'Black', ncols=1, vmin = 0, vmax = 3, legend_loc=None, show=False, save = name)"
   ]
  }
 ],
 "metadata": {
  "kernelspec": {
   "display_name": "Python 3 (ipykernel)",
   "language": "python",
   "name": "python3"
  },
  "language_info": {
   "codemirror_mode": {
    "name": "ipython",
    "version": 3
   },
   "file_extension": ".py",
   "mimetype": "text/x-python",
   "name": "python",
   "nbconvert_exporter": "python",
   "pygments_lexer": "ipython3",
   "version": "3.9.13"
  }
 },
 "nbformat": 4,
 "nbformat_minor": 5
}
